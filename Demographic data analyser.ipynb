{
 "cells": [
  {
   "cell_type": "code",
   "execution_count": 1,
   "id": "e1fff597",
   "metadata": {},
   "outputs": [],
   "source": [
    "\n",
    "import pandas as pd\n"
   ]
  },
  {
   "cell_type": "code",
   "execution_count": 2,
   "id": "808e0735",
   "metadata": {},
   "outputs": [],
   "source": [
    "df= pd.read_csv(\"C:/Users/Pol Jofre/CSV/adult.data.csv\")"
   ]
  },
  {
   "cell_type": "code",
   "execution_count": 4,
   "id": "cedceab5",
   "metadata": {},
   "outputs": [],
   "source": [
    "#How many people of each race are represented in this dataset? This should be a Pandas series with race names as the index labels. (race column)"
   ]
  },
  {
   "cell_type": "code",
   "execution_count": 5,
   "id": "13bdcac1",
   "metadata": {},
   "outputs": [],
   "source": [
    "race_number= df[\"race\"].value_counts()"
   ]
  },
  {
   "cell_type": "code",
   "execution_count": 6,
   "id": "a7ba1b9e",
   "metadata": {},
   "outputs": [
    {
     "data": {
      "text/plain": [
       "White                 27816\n",
       "Black                  3124\n",
       "Asian-Pac-Islander     1039\n",
       "Amer-Indian-Eskimo      311\n",
       "Other                   271\n",
       "Name: race, dtype: int64"
      ]
     },
     "execution_count": 6,
     "metadata": {},
     "output_type": "execute_result"
    }
   ],
   "source": [
    "race_number"
   ]
  },
  {
   "cell_type": "code",
   "execution_count": 7,
   "id": "1d6f4e14",
   "metadata": {},
   "outputs": [],
   "source": [
    "#What is the average age of men?\n"
   ]
  },
  {
   "cell_type": "code",
   "execution_count": 44,
   "id": "881ce00a",
   "metadata": {},
   "outputs": [],
   "source": [
    "average_age_men= df[df[\"sex\"]==\"Male\"][\"age\"].mean()"
   ]
  },
  {
   "cell_type": "code",
   "execution_count": 49,
   "id": "ae217618",
   "metadata": {},
   "outputs": [
    {
     "data": {
      "text/plain": [
       "39.4"
      ]
     },
     "execution_count": 49,
     "metadata": {},
     "output_type": "execute_result"
    }
   ],
   "source": [
    "round(average_age_men, 1)"
   ]
  },
  {
   "cell_type": "code",
   "execution_count": 10,
   "id": "67ba3423",
   "metadata": {},
   "outputs": [],
   "source": [
    "#What is the percentage of people who have a Bachelor's degree?"
   ]
  },
  {
   "cell_type": "code",
   "execution_count": 11,
   "id": "cb092750",
   "metadata": {},
   "outputs": [],
   "source": [
    "bachelors_degree=(len(df[df[\"education\"]==\"Bachelors\"])/len(df))*100"
   ]
  },
  {
   "cell_type": "code",
   "execution_count": 48,
   "id": "3dce956e",
   "metadata": {},
   "outputs": [
    {
     "data": {
      "text/plain": [
       "16.4"
      ]
     },
     "execution_count": 48,
     "metadata": {},
     "output_type": "execute_result"
    }
   ],
   "source": [
    "round(bachelors_degree, 1)"
   ]
  },
  {
   "cell_type": "code",
   "execution_count": 13,
   "id": "3f86f9a3",
   "metadata": {},
   "outputs": [],
   "source": [
    "#What percentage of people with advanced education (Bachelors, Masters, or Doctorate) make more than 50K?"
   ]
  },
  {
   "cell_type": "code",
   "execution_count": 14,
   "id": "14e13a3e",
   "metadata": {},
   "outputs": [],
   "source": [
    "    advanced_education= [df[df[\"education\"]==\"Bachelors\"], df[df[\"education\"]==\"Masters\"], df[df[\"education\"]==\"Doctorate\"]]"
   ]
  },
  {
   "cell_type": "code",
   "execution_count": 15,
   "id": "8e2a1840",
   "metadata": {},
   "outputs": [
    {
     "data": {
      "text/plain": [
       "[       age         workclass  fnlwgt  education  education-num  \\\n",
       " 0       39         State-gov   77516  Bachelors             13   \n",
       " 1       50  Self-emp-not-inc   83311  Bachelors             13   \n",
       " 4       28           Private  338409  Bachelors             13   \n",
       " 9       42           Private  159449  Bachelors             13   \n",
       " 11      30         State-gov  141297  Bachelors             13   \n",
       " ...    ...               ...     ...        ...            ...   \n",
       " 32530   35                 ?  320084  Bachelors             13   \n",
       " 32531   30                 ?   33811  Bachelors             13   \n",
       " 32533   54           Private  337992  Bachelors             13   \n",
       " 32536   34           Private  160216  Bachelors             13   \n",
       " 32538   38           Private  139180  Bachelors             13   \n",
       " \n",
       "            marital-status       occupation   relationship                race  \\\n",
       " 0           Never-married     Adm-clerical  Not-in-family               White   \n",
       " 1      Married-civ-spouse  Exec-managerial        Husband               White   \n",
       " 4      Married-civ-spouse   Prof-specialty           Wife               Black   \n",
       " 9      Married-civ-spouse  Exec-managerial        Husband               White   \n",
       " 11     Married-civ-spouse   Prof-specialty        Husband  Asian-Pac-Islander   \n",
       " ...                   ...              ...            ...                 ...   \n",
       " 32530  Married-civ-spouse                ?           Wife               White   \n",
       " 32531       Never-married                ?  Not-in-family  Asian-Pac-Islander   \n",
       " 32533  Married-civ-spouse  Exec-managerial        Husband  Asian-Pac-Islander   \n",
       " 32536       Never-married  Exec-managerial  Not-in-family               White   \n",
       " 32538            Divorced   Prof-specialty      Unmarried               Black   \n",
       " \n",
       "           sex  capital-gain  capital-loss  hours-per-week native-country  \\\n",
       " 0        Male          2174             0              40  United-States   \n",
       " 1        Male             0             0              13  United-States   \n",
       " 4      Female             0             0              40           Cuba   \n",
       " 9        Male          5178             0              40  United-States   \n",
       " 11       Male             0             0              40          India   \n",
       " ...       ...           ...           ...             ...            ...   \n",
       " 32530  Female             0             0              55  United-States   \n",
       " 32531  Female             0             0              99  United-States   \n",
       " 32533    Male             0             0              50          Japan   \n",
       " 32536  Female             0             0              55  United-States   \n",
       " 32538  Female         15020             0              45  United-States   \n",
       " \n",
       "       salary  \n",
       " 0      <=50K  \n",
       " 1      <=50K  \n",
       " 4      <=50K  \n",
       " 9       >50K  \n",
       " 11      >50K  \n",
       " ...      ...  \n",
       " 32530   >50K  \n",
       " 32531  <=50K  \n",
       " 32533   >50K  \n",
       " 32536   >50K  \n",
       " 32538   >50K  \n",
       " \n",
       " [5355 rows x 15 columns],\n",
       "        age         workclass  fnlwgt education  education-num  \\\n",
       " 5       37           Private  284582   Masters             14   \n",
       " 8       31           Private   45781   Masters             14   \n",
       " 19      43  Self-emp-not-inc  292175   Masters             14   \n",
       " 47      44           Private  128354   Masters             14   \n",
       " 87      33           Private  202051   Masters             14   \n",
       " ...    ...               ...     ...       ...            ...   \n",
       " 32504   50           Private  208630   Masters             14   \n",
       " 32513   46           Private   42972   Masters             14   \n",
       " 32544   31           Private  199655   Masters             14   \n",
       " 32553   32           Private  116138   Masters             14   \n",
       " 32554   53           Private  321865   Masters             14   \n",
       " \n",
       "            marital-status       occupation   relationship                race  \\\n",
       " 5      Married-civ-spouse  Exec-managerial           Wife               White   \n",
       " 8           Never-married   Prof-specialty  Not-in-family               White   \n",
       " 19               Divorced  Exec-managerial      Unmarried               White   \n",
       " 47               Divorced  Exec-managerial      Unmarried               White   \n",
       " 87     Married-civ-spouse   Prof-specialty        Husband               White   \n",
       " ...                   ...              ...            ...                 ...   \n",
       " 32504            Divorced            Sales  Not-in-family               White   \n",
       " 32513  Married-civ-spouse   Prof-specialty           Wife               White   \n",
       " 32544            Divorced    Other-service  Not-in-family               Other   \n",
       " 32553       Never-married     Tech-support  Not-in-family  Asian-Pac-Islander   \n",
       " 32554  Married-civ-spouse  Exec-managerial        Husband               White   \n",
       " \n",
       "           sex  capital-gain  capital-loss  hours-per-week native-country  \\\n",
       " 5      Female             0             0              40  United-States   \n",
       " 8      Female         14084             0              50  United-States   \n",
       " 19     Female             0             0              45  United-States   \n",
       " 47     Female             0             0              40  United-States   \n",
       " 87       Male             0             0              50  United-States   \n",
       " ...       ...           ...           ...             ...            ...   \n",
       " 32504  Female             0             0              50  United-States   \n",
       " 32513  Female             0             0              22  United-States   \n",
       " 32544  Female             0             0              30  United-States   \n",
       " 32553    Male             0             0              11         Taiwan   \n",
       " 32554    Male             0             0              40  United-States   \n",
       " \n",
       "       salary  \n",
       " 5      <=50K  \n",
       " 8       >50K  \n",
       " 19      >50K  \n",
       " 47     <=50K  \n",
       " 87     <=50K  \n",
       " ...      ...  \n",
       " 32504   >50K  \n",
       " 32513   >50K  \n",
       " 32544  <=50K  \n",
       " 32553  <=50K  \n",
       " 32554   >50K  \n",
       " \n",
       " [1723 rows x 15 columns],\n",
       "        age         workclass  fnlwgt  education  education-num  \\\n",
       " 20      40           Private  193524  Doctorate             16   \n",
       " 63      42           Private  116632  Doctorate             16   \n",
       " 89      43       Federal-gov  410867  Doctorate             16   \n",
       " 96      48  Self-emp-not-inc  191277  Doctorate             16   \n",
       " 189     58         State-gov  109567  Doctorate             16   \n",
       " ...    ...               ...     ...        ...            ...   \n",
       " 32429   51         Local-gov  203334  Doctorate             16   \n",
       " 32469   58      Self-emp-inc  181974  Doctorate             16   \n",
       " 32470   50           Private  485710  Doctorate             16   \n",
       " 32532   34           Private  204461  Doctorate             16   \n",
       " 32539   71                 ?  287372  Doctorate             16   \n",
       " \n",
       "            marital-status       occupation   relationship   race     sex  \\\n",
       " 20     Married-civ-spouse   Prof-specialty        Husband  White    Male   \n",
       " 63     Married-civ-spouse   Prof-specialty        Husband  White    Male   \n",
       " 89          Never-married   Prof-specialty  Not-in-family  White  Female   \n",
       " 96     Married-civ-spouse   Prof-specialty        Husband  White    Male   \n",
       " 189    Married-civ-spouse   Prof-specialty        Husband  White    Male   \n",
       " ...                   ...              ...            ...    ...     ...   \n",
       " 32429            Divorced  Exec-managerial  Not-in-family  White  Female   \n",
       " 32469       Never-married   Prof-specialty  Not-in-family  White  Female   \n",
       " 32470            Divorced   Prof-specialty  Not-in-family  White  Female   \n",
       " 32532  Married-civ-spouse   Prof-specialty        Husband  White    Male   \n",
       " 32539  Married-civ-spouse                ?        Husband  White    Male   \n",
       " \n",
       "        capital-gain  capital-loss  hours-per-week native-country salary  \n",
       " 20                0             0              60  United-States   >50K  \n",
       " 63                0             0              45  United-States   >50K  \n",
       " 89                0             0              50  United-States   >50K  \n",
       " 96                0          1902              60  United-States   >50K  \n",
       " 189               0             0               1  United-States   >50K  \n",
       " ...             ...           ...             ...            ...    ...  \n",
       " 32429             0             0              45  United-States   >50K  \n",
       " 32469             0             0              99              ?  <=50K  \n",
       " 32470             0             0              50  United-States  <=50K  \n",
       " 32532             0             0              60  United-States   >50K  \n",
       " 32539             0             0              10  United-States   >50K  \n",
       " \n",
       " [413 rows x 15 columns]]"
      ]
     },
     "execution_count": 15,
     "metadata": {},
     "output_type": "execute_result"
    }
   ],
   "source": [
    "advanced_education"
   ]
  },
  {
   "cell_type": "code",
   "execution_count": 16,
   "id": "00debe56",
   "metadata": {},
   "outputs": [],
   "source": [
    "advanced_education= pd.concat(advanced_education)"
   ]
  },
  {
   "cell_type": "code",
   "execution_count": 17,
   "id": "a93b6414",
   "metadata": {},
   "outputs": [
    {
     "data": {
      "text/html": [
       "<div>\n",
       "<style scoped>\n",
       "    .dataframe tbody tr th:only-of-type {\n",
       "        vertical-align: middle;\n",
       "    }\n",
       "\n",
       "    .dataframe tbody tr th {\n",
       "        vertical-align: top;\n",
       "    }\n",
       "\n",
       "    .dataframe thead th {\n",
       "        text-align: right;\n",
       "    }\n",
       "</style>\n",
       "<table border=\"1\" class=\"dataframe\">\n",
       "  <thead>\n",
       "    <tr style=\"text-align: right;\">\n",
       "      <th></th>\n",
       "      <th>age</th>\n",
       "      <th>workclass</th>\n",
       "      <th>fnlwgt</th>\n",
       "      <th>education</th>\n",
       "      <th>education-num</th>\n",
       "      <th>marital-status</th>\n",
       "      <th>occupation</th>\n",
       "      <th>relationship</th>\n",
       "      <th>race</th>\n",
       "      <th>sex</th>\n",
       "      <th>capital-gain</th>\n",
       "      <th>capital-loss</th>\n",
       "      <th>hours-per-week</th>\n",
       "      <th>native-country</th>\n",
       "      <th>salary</th>\n",
       "    </tr>\n",
       "  </thead>\n",
       "  <tbody>\n",
       "    <tr>\n",
       "      <th>0</th>\n",
       "      <td>39</td>\n",
       "      <td>State-gov</td>\n",
       "      <td>77516</td>\n",
       "      <td>Bachelors</td>\n",
       "      <td>13</td>\n",
       "      <td>Never-married</td>\n",
       "      <td>Adm-clerical</td>\n",
       "      <td>Not-in-family</td>\n",
       "      <td>White</td>\n",
       "      <td>Male</td>\n",
       "      <td>2174</td>\n",
       "      <td>0</td>\n",
       "      <td>40</td>\n",
       "      <td>United-States</td>\n",
       "      <td>&lt;=50K</td>\n",
       "    </tr>\n",
       "    <tr>\n",
       "      <th>1</th>\n",
       "      <td>50</td>\n",
       "      <td>Self-emp-not-inc</td>\n",
       "      <td>83311</td>\n",
       "      <td>Bachelors</td>\n",
       "      <td>13</td>\n",
       "      <td>Married-civ-spouse</td>\n",
       "      <td>Exec-managerial</td>\n",
       "      <td>Husband</td>\n",
       "      <td>White</td>\n",
       "      <td>Male</td>\n",
       "      <td>0</td>\n",
       "      <td>0</td>\n",
       "      <td>13</td>\n",
       "      <td>United-States</td>\n",
       "      <td>&lt;=50K</td>\n",
       "    </tr>\n",
       "    <tr>\n",
       "      <th>4</th>\n",
       "      <td>28</td>\n",
       "      <td>Private</td>\n",
       "      <td>338409</td>\n",
       "      <td>Bachelors</td>\n",
       "      <td>13</td>\n",
       "      <td>Married-civ-spouse</td>\n",
       "      <td>Prof-specialty</td>\n",
       "      <td>Wife</td>\n",
       "      <td>Black</td>\n",
       "      <td>Female</td>\n",
       "      <td>0</td>\n",
       "      <td>0</td>\n",
       "      <td>40</td>\n",
       "      <td>Cuba</td>\n",
       "      <td>&lt;=50K</td>\n",
       "    </tr>\n",
       "    <tr>\n",
       "      <th>9</th>\n",
       "      <td>42</td>\n",
       "      <td>Private</td>\n",
       "      <td>159449</td>\n",
       "      <td>Bachelors</td>\n",
       "      <td>13</td>\n",
       "      <td>Married-civ-spouse</td>\n",
       "      <td>Exec-managerial</td>\n",
       "      <td>Husband</td>\n",
       "      <td>White</td>\n",
       "      <td>Male</td>\n",
       "      <td>5178</td>\n",
       "      <td>0</td>\n",
       "      <td>40</td>\n",
       "      <td>United-States</td>\n",
       "      <td>&gt;50K</td>\n",
       "    </tr>\n",
       "    <tr>\n",
       "      <th>11</th>\n",
       "      <td>30</td>\n",
       "      <td>State-gov</td>\n",
       "      <td>141297</td>\n",
       "      <td>Bachelors</td>\n",
       "      <td>13</td>\n",
       "      <td>Married-civ-spouse</td>\n",
       "      <td>Prof-specialty</td>\n",
       "      <td>Husband</td>\n",
       "      <td>Asian-Pac-Islander</td>\n",
       "      <td>Male</td>\n",
       "      <td>0</td>\n",
       "      <td>0</td>\n",
       "      <td>40</td>\n",
       "      <td>India</td>\n",
       "      <td>&gt;50K</td>\n",
       "    </tr>\n",
       "    <tr>\n",
       "      <th>...</th>\n",
       "      <td>...</td>\n",
       "      <td>...</td>\n",
       "      <td>...</td>\n",
       "      <td>...</td>\n",
       "      <td>...</td>\n",
       "      <td>...</td>\n",
       "      <td>...</td>\n",
       "      <td>...</td>\n",
       "      <td>...</td>\n",
       "      <td>...</td>\n",
       "      <td>...</td>\n",
       "      <td>...</td>\n",
       "      <td>...</td>\n",
       "      <td>...</td>\n",
       "      <td>...</td>\n",
       "    </tr>\n",
       "    <tr>\n",
       "      <th>32429</th>\n",
       "      <td>51</td>\n",
       "      <td>Local-gov</td>\n",
       "      <td>203334</td>\n",
       "      <td>Doctorate</td>\n",
       "      <td>16</td>\n",
       "      <td>Divorced</td>\n",
       "      <td>Exec-managerial</td>\n",
       "      <td>Not-in-family</td>\n",
       "      <td>White</td>\n",
       "      <td>Female</td>\n",
       "      <td>0</td>\n",
       "      <td>0</td>\n",
       "      <td>45</td>\n",
       "      <td>United-States</td>\n",
       "      <td>&gt;50K</td>\n",
       "    </tr>\n",
       "    <tr>\n",
       "      <th>32469</th>\n",
       "      <td>58</td>\n",
       "      <td>Self-emp-inc</td>\n",
       "      <td>181974</td>\n",
       "      <td>Doctorate</td>\n",
       "      <td>16</td>\n",
       "      <td>Never-married</td>\n",
       "      <td>Prof-specialty</td>\n",
       "      <td>Not-in-family</td>\n",
       "      <td>White</td>\n",
       "      <td>Female</td>\n",
       "      <td>0</td>\n",
       "      <td>0</td>\n",
       "      <td>99</td>\n",
       "      <td>?</td>\n",
       "      <td>&lt;=50K</td>\n",
       "    </tr>\n",
       "    <tr>\n",
       "      <th>32470</th>\n",
       "      <td>50</td>\n",
       "      <td>Private</td>\n",
       "      <td>485710</td>\n",
       "      <td>Doctorate</td>\n",
       "      <td>16</td>\n",
       "      <td>Divorced</td>\n",
       "      <td>Prof-specialty</td>\n",
       "      <td>Not-in-family</td>\n",
       "      <td>White</td>\n",
       "      <td>Female</td>\n",
       "      <td>0</td>\n",
       "      <td>0</td>\n",
       "      <td>50</td>\n",
       "      <td>United-States</td>\n",
       "      <td>&lt;=50K</td>\n",
       "    </tr>\n",
       "    <tr>\n",
       "      <th>32532</th>\n",
       "      <td>34</td>\n",
       "      <td>Private</td>\n",
       "      <td>204461</td>\n",
       "      <td>Doctorate</td>\n",
       "      <td>16</td>\n",
       "      <td>Married-civ-spouse</td>\n",
       "      <td>Prof-specialty</td>\n",
       "      <td>Husband</td>\n",
       "      <td>White</td>\n",
       "      <td>Male</td>\n",
       "      <td>0</td>\n",
       "      <td>0</td>\n",
       "      <td>60</td>\n",
       "      <td>United-States</td>\n",
       "      <td>&gt;50K</td>\n",
       "    </tr>\n",
       "    <tr>\n",
       "      <th>32539</th>\n",
       "      <td>71</td>\n",
       "      <td>?</td>\n",
       "      <td>287372</td>\n",
       "      <td>Doctorate</td>\n",
       "      <td>16</td>\n",
       "      <td>Married-civ-spouse</td>\n",
       "      <td>?</td>\n",
       "      <td>Husband</td>\n",
       "      <td>White</td>\n",
       "      <td>Male</td>\n",
       "      <td>0</td>\n",
       "      <td>0</td>\n",
       "      <td>10</td>\n",
       "      <td>United-States</td>\n",
       "      <td>&gt;50K</td>\n",
       "    </tr>\n",
       "  </tbody>\n",
       "</table>\n",
       "<p>7491 rows × 15 columns</p>\n",
       "</div>"
      ],
      "text/plain": [
       "       age         workclass  fnlwgt  education  education-num  \\\n",
       "0       39         State-gov   77516  Bachelors             13   \n",
       "1       50  Self-emp-not-inc   83311  Bachelors             13   \n",
       "4       28           Private  338409  Bachelors             13   \n",
       "9       42           Private  159449  Bachelors             13   \n",
       "11      30         State-gov  141297  Bachelors             13   \n",
       "...    ...               ...     ...        ...            ...   \n",
       "32429   51         Local-gov  203334  Doctorate             16   \n",
       "32469   58      Self-emp-inc  181974  Doctorate             16   \n",
       "32470   50           Private  485710  Doctorate             16   \n",
       "32532   34           Private  204461  Doctorate             16   \n",
       "32539   71                 ?  287372  Doctorate             16   \n",
       "\n",
       "           marital-status       occupation   relationship                race  \\\n",
       "0           Never-married     Adm-clerical  Not-in-family               White   \n",
       "1      Married-civ-spouse  Exec-managerial        Husband               White   \n",
       "4      Married-civ-spouse   Prof-specialty           Wife               Black   \n",
       "9      Married-civ-spouse  Exec-managerial        Husband               White   \n",
       "11     Married-civ-spouse   Prof-specialty        Husband  Asian-Pac-Islander   \n",
       "...                   ...              ...            ...                 ...   \n",
       "32429            Divorced  Exec-managerial  Not-in-family               White   \n",
       "32469       Never-married   Prof-specialty  Not-in-family               White   \n",
       "32470            Divorced   Prof-specialty  Not-in-family               White   \n",
       "32532  Married-civ-spouse   Prof-specialty        Husband               White   \n",
       "32539  Married-civ-spouse                ?        Husband               White   \n",
       "\n",
       "          sex  capital-gain  capital-loss  hours-per-week native-country  \\\n",
       "0        Male          2174             0              40  United-States   \n",
       "1        Male             0             0              13  United-States   \n",
       "4      Female             0             0              40           Cuba   \n",
       "9        Male          5178             0              40  United-States   \n",
       "11       Male             0             0              40          India   \n",
       "...       ...           ...           ...             ...            ...   \n",
       "32429  Female             0             0              45  United-States   \n",
       "32469  Female             0             0              99              ?   \n",
       "32470  Female             0             0              50  United-States   \n",
       "32532    Male             0             0              60  United-States   \n",
       "32539    Male             0             0              10  United-States   \n",
       "\n",
       "      salary  \n",
       "0      <=50K  \n",
       "1      <=50K  \n",
       "4      <=50K  \n",
       "9       >50K  \n",
       "11      >50K  \n",
       "...      ...  \n",
       "32429   >50K  \n",
       "32469  <=50K  \n",
       "32470  <=50K  \n",
       "32532   >50K  \n",
       "32539   >50K  \n",
       "\n",
       "[7491 rows x 15 columns]"
      ]
     },
     "execution_count": 17,
     "metadata": {},
     "output_type": "execute_result"
    }
   ],
   "source": [
    "advanced_education"
   ]
  },
  {
   "cell_type": "code",
   "execution_count": 18,
   "id": "74efa28d",
   "metadata": {},
   "outputs": [],
   "source": [
    "advanced_education_percentage =(len(advanced_education[advanced_education[\"salary\"]==\">50K\"])/len(advanced_education))*100\n"
   ]
  },
  {
   "cell_type": "code",
   "execution_count": 50,
   "id": "5e5fb501",
   "metadata": {},
   "outputs": [
    {
     "data": {
      "text/plain": [
       "46.5"
      ]
     },
     "execution_count": 50,
     "metadata": {},
     "output_type": "execute_result"
    }
   ],
   "source": [
    "round(advanced_education_percentage,1)"
   ]
  },
  {
   "cell_type": "code",
   "execution_count": 20,
   "id": "e67f4c76",
   "metadata": {},
   "outputs": [],
   "source": [
    "#What percentage of people without advanced education make more than 50K?"
   ]
  },
  {
   "cell_type": "code",
   "execution_count": 21,
   "id": "8a9c5977",
   "metadata": {},
   "outputs": [
    {
     "name": "stdout",
     "output_type": "stream",
     "text": [
      "<class 'pandas.core.frame.DataFrame'>\n",
      "RangeIndex: 32561 entries, 0 to 32560\n",
      "Data columns (total 15 columns):\n",
      " #   Column          Non-Null Count  Dtype \n",
      "---  ------          --------------  ----- \n",
      " 0   age             32561 non-null  int64 \n",
      " 1   workclass       32561 non-null  object\n",
      " 2   fnlwgt          32561 non-null  int64 \n",
      " 3   education       32561 non-null  object\n",
      " 4   education-num   32561 non-null  int64 \n",
      " 5   marital-status  32561 non-null  object\n",
      " 6   occupation      32561 non-null  object\n",
      " 7   relationship    32561 non-null  object\n",
      " 8   race            32561 non-null  object\n",
      " 9   sex             32561 non-null  object\n",
      " 10  capital-gain    32561 non-null  int64 \n",
      " 11  capital-loss    32561 non-null  int64 \n",
      " 12  hours-per-week  32561 non-null  int64 \n",
      " 13  native-country  32561 non-null  object\n",
      " 14  salary          32561 non-null  object\n",
      "dtypes: int64(6), object(9)\n",
      "memory usage: 3.7+ MB\n"
     ]
    }
   ],
   "source": [
    "df.info()"
   ]
  },
  {
   "cell_type": "code",
   "execution_count": 22,
   "id": "97186c62",
   "metadata": {},
   "outputs": [
    {
     "data": {
      "text/plain": [
       "0         Bachelors\n",
       "1         Bachelors\n",
       "2           HS-grad\n",
       "3              11th\n",
       "4         Bachelors\n",
       "            ...    \n",
       "32556    Assoc-acdm\n",
       "32557       HS-grad\n",
       "32558       HS-grad\n",
       "32559       HS-grad\n",
       "32560       HS-grad\n",
       "Name: education, Length: 32561, dtype: object"
      ]
     },
     "execution_count": 22,
     "metadata": {},
     "output_type": "execute_result"
    }
   ],
   "source": [
    "df[\"education\"]"
   ]
  },
  {
   "cell_type": "code",
   "execution_count": 23,
   "id": "a1bc3be2",
   "metadata": {},
   "outputs": [],
   "source": [
    "without_advanced_education= df[df[\"education\"] != \"Bachelors\"]"
   ]
  },
  {
   "cell_type": "code",
   "execution_count": 24,
   "id": "6646f5a4",
   "metadata": {},
   "outputs": [],
   "source": [
    "without_advanced_education= without_advanced_education[without_advanced_education[\"education\"]!=\"Masters\"]"
   ]
  },
  {
   "cell_type": "code",
   "execution_count": 25,
   "id": "ed813e15",
   "metadata": {},
   "outputs": [],
   "source": [
    "without_advanced_education= without_advanced_education[without_advanced_education[\"education\"]!=\"Doctorate\"]"
   ]
  },
  {
   "cell_type": "code",
   "execution_count": 26,
   "id": "35d77809",
   "metadata": {},
   "outputs": [],
   "source": [
    "without_advanced_education_percentage= ( (len( without_advanced_education[without_advanced_education[\"salary\"] == \">50K\"]) / len(without_advanced_education)) * 100)"
   ]
  },
  {
   "cell_type": "code",
   "execution_count": 51,
   "id": "90016030",
   "metadata": {},
   "outputs": [
    {
     "data": {
      "text/plain": [
       "17.4"
      ]
     },
     "execution_count": 51,
     "metadata": {},
     "output_type": "execute_result"
    }
   ],
   "source": [
    "round(without_advanced_education_percentage,1)"
   ]
  },
  {
   "cell_type": "code",
   "execution_count": 28,
   "id": "1ba51baa",
   "metadata": {},
   "outputs": [],
   "source": [
    "#What is the minimum number of hours a person works per week?"
   ]
  },
  {
   "cell_type": "code",
   "execution_count": 29,
   "id": "3606116a",
   "metadata": {},
   "outputs": [],
   "source": [
    "min_hours_week= df[\"hours-per-week\"].min()"
   ]
  },
  {
   "cell_type": "code",
   "execution_count": 30,
   "id": "27307cc5",
   "metadata": {},
   "outputs": [
    {
     "data": {
      "text/plain": [
       "1"
      ]
     },
     "execution_count": 30,
     "metadata": {},
     "output_type": "execute_result"
    }
   ],
   "source": [
    "min_hours_week"
   ]
  },
  {
   "cell_type": "code",
   "execution_count": 31,
   "id": "1a3a1ebe",
   "metadata": {},
   "outputs": [],
   "source": [
    "#What percentage of the people who work the minimum number of hours per week have a salary of more than 50K?"
   ]
  },
  {
   "cell_type": "code",
   "execution_count": 32,
   "id": "a9d24545",
   "metadata": {},
   "outputs": [],
   "source": [
    "min_working = df.loc[df[\"hours-per-week\"] == min_hours_week]\n",
    "    "
   ]
  },
  {
   "cell_type": "code",
   "execution_count": 33,
   "id": "d4c5208c",
   "metadata": {},
   "outputs": [],
   "source": [
    "min_work_percentage = round(100 * min_working.loc[min_working[\"salary\"] == \">50K\"].size\n",
    "        / min_working.size, 1,)"
   ]
  },
  {
   "cell_type": "code",
   "execution_count": 52,
   "id": "6f64bcea",
   "metadata": {},
   "outputs": [
    {
     "data": {
      "text/plain": [
       "10.0"
      ]
     },
     "execution_count": 52,
     "metadata": {},
     "output_type": "execute_result"
    }
   ],
   "source": [
    "round(min_work_percentage, 1)"
   ]
  },
  {
   "cell_type": "code",
   "execution_count": 35,
   "id": "963f1862",
   "metadata": {},
   "outputs": [],
   "source": [
    "#What country has the highest percentage of people that earn >50K and what is that percentage?#"
   ]
  },
  {
   "cell_type": "code",
   "execution_count": 36,
   "id": "6bbb7b7a",
   "metadata": {},
   "outputs": [],
   "source": [
    "countries_percentage= (df[df[\"salary\"]== \">50K\"][\"native-country\"].value_counts()/df[\"native-country\"].value_counts())*100"
   ]
  },
  {
   "cell_type": "code",
   "execution_count": 37,
   "id": "2b56cc90",
   "metadata": {},
   "outputs": [
    {
     "data": {
      "text/plain": [
       "?                             25.042882\n",
       "Cambodia                      36.842105\n",
       "Canada                        32.231405\n",
       "China                         26.666667\n",
       "Columbia                       3.389831\n",
       "Cuba                          26.315789\n",
       "Dominican-Republic             2.857143\n",
       "Ecuador                       14.285714\n",
       "El-Salvador                    8.490566\n",
       "England                       33.333333\n",
       "France                        41.379310\n",
       "Germany                       32.116788\n",
       "Greece                        27.586207\n",
       "Guatemala                      4.687500\n",
       "Haiti                          9.090909\n",
       "Holand-Netherlands                  NaN\n",
       "Honduras                       7.692308\n",
       "Hong                          30.000000\n",
       "Hungary                       23.076923\n",
       "India                         40.000000\n",
       "Iran                          41.860465\n",
       "Ireland                       20.833333\n",
       "Italy                         34.246575\n",
       "Jamaica                       12.345679\n",
       "Japan                         38.709677\n",
       "Laos                          11.111111\n",
       "Mexico                         5.132193\n",
       "Nicaragua                      5.882353\n",
       "Outlying-US(Guam-USVI-etc)          NaN\n",
       "Peru                           6.451613\n",
       "Philippines                   30.808081\n",
       "Poland                        20.000000\n",
       "Portugal                      10.810811\n",
       "Puerto-Rico                   10.526316\n",
       "Scotland                      25.000000\n",
       "South                         20.000000\n",
       "Taiwan                        39.215686\n",
       "Thailand                      16.666667\n",
       "Trinadad&Tobago               10.526316\n",
       "United-States                 24.583476\n",
       "Vietnam                        7.462687\n",
       "Yugoslavia                    37.500000\n",
       "Name: native-country, dtype: float64"
      ]
     },
     "execution_count": 37,
     "metadata": {},
     "output_type": "execute_result"
    }
   ],
   "source": [
    "countries_percentage"
   ]
  },
  {
   "cell_type": "code",
   "execution_count": 38,
   "id": "dbf152d1",
   "metadata": {},
   "outputs": [],
   "source": [
    "#dentify the most popular occupation for those who earn >50K in India."
   ]
  },
  {
   "cell_type": "code",
   "execution_count": 39,
   "id": "b8262d10",
   "metadata": {},
   "outputs": [],
   "source": [
    "popular_job_India= df[df[\"native-country\"]==\"India\"]\n"
   ]
  },
  {
   "cell_type": "code",
   "execution_count": 40,
   "id": "52968117",
   "metadata": {},
   "outputs": [],
   "source": [
    "popular_job_India= popular_job_India[popular_job_India[\"salary\"]==\">50K\"]"
   ]
  },
  {
   "cell_type": "code",
   "execution_count": 41,
   "id": "e4412cd2",
   "metadata": {},
   "outputs": [],
   "source": [
    "most_popular_rich= popular_job_India['occupation'].value_counts().idxmax()"
   ]
  },
  {
   "cell_type": "code",
   "execution_count": 42,
   "id": "e7979279",
   "metadata": {},
   "outputs": [
    {
     "data": {
      "text/plain": [
       "'Prof-specialty'"
      ]
     },
     "execution_count": 42,
     "metadata": {},
     "output_type": "execute_result"
    }
   ],
   "source": [
    "most_popular_rich"
   ]
  }
 ],
 "metadata": {
  "kernelspec": {
   "display_name": "Python 3 (ipykernel)",
   "language": "python",
   "name": "python3"
  },
  "language_info": {
   "codemirror_mode": {
    "name": "ipython",
    "version": 3
   },
   "file_extension": ".py",
   "mimetype": "text/x-python",
   "name": "python",
   "nbconvert_exporter": "python",
   "pygments_lexer": "ipython3",
   "version": "3.9.7"
  }
 },
 "nbformat": 4,
 "nbformat_minor": 5
}
